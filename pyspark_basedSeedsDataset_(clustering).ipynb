{
  "nbformat": 4,
  "nbformat_minor": 0,
  "metadata": {
    "colab": {
      "provenance": []
    },
    "kernelspec": {
      "name": "python3",
      "display_name": "Python 3"
    },
    "language_info": {
      "name": "python"
    }
  },
  "cells": [
    {
      "cell_type": "code",
      "execution_count": null,
      "metadata": {
        "colab": {
          "base_uri": "https://localhost:8080/"
        },
        "id": "dOU2GC8_vaWN",
        "outputId": "2bad6e4e-3664-441d-e3ce-a7d564a8fc8a"
      },
      "outputs": [
        {
          "output_type": "stream",
          "name": "stdout",
          "text": [
            "Collecting pySpark\n",
            "  Downloading pyspark-3.4.1.tar.gz (310.8 MB)\n",
            "\u001b[2K     \u001b[90m━━━━━━━━━━━━━━━━━━━━━━━━━━━━━━━━━━━━━━━\u001b[0m \u001b[32m310.8/310.8 MB\u001b[0m \u001b[31m4.5 MB/s\u001b[0m eta \u001b[36m0:00:00\u001b[0m\n",
            "\u001b[?25h  Preparing metadata (setup.py) ... \u001b[?25l\u001b[?25hdone\n",
            "Requirement already satisfied: py4j==0.10.9.7 in /usr/local/lib/python3.10/dist-packages (from pySpark) (0.10.9.7)\n",
            "Building wheels for collected packages: pySpark\n",
            "  Building wheel for pySpark (setup.py) ... \u001b[?25l\u001b[?25hdone\n",
            "  Created wheel for pySpark: filename=pyspark-3.4.1-py2.py3-none-any.whl size=311285388 sha256=9b61cb835061796c3cfffb3a52b77f4758f49a34b0604ae467706e5cc5f9c486\n",
            "  Stored in directory: /root/.cache/pip/wheels/0d/77/a3/ff2f74cc9ab41f8f594dabf0579c2a7c6de920d584206e0834\n",
            "Successfully built pySpark\n",
            "Installing collected packages: pySpark\n",
            "Successfully installed pySpark-3.4.1\n"
          ]
        }
      ],
      "source": [
        "#install pySpark\n",
        "!pip install pySpark\n"
      ]
    },
    {
      "cell_type": "code",
      "source": [
        "#import libraries and load dataset\n",
        "from pyspark.sql import SparkSession\n",
        "spark= SparkSession.builder.appName(\"test_pyspark\").getOrCreate()"
      ],
      "metadata": {
        "id": "v9tbkIZTvllN"
      },
      "execution_count": null,
      "outputs": []
    },
    {
      "cell_type": "code",
      "source": [
        "df= spark.read.csv(\"/content/sample_data/california_housing_train.csv\",header=True,inferSchema= True)"
      ],
      "metadata": {
        "id": "bT7K1i3hwU_N"
      },
      "execution_count": null,
      "outputs": []
    },
    {
      "cell_type": "code",
      "source": [
        "df"
      ],
      "metadata": {
        "colab": {
          "base_uri": "https://localhost:8080/"
        },
        "id": "Dm0EgrDpxWec",
        "outputId": "1bb39bb4-f4b5-4006-864a-8962501abb11"
      },
      "execution_count": null,
      "outputs": [
        {
          "output_type": "execute_result",
          "data": {
            "text/plain": [
              "DataFrame[longitude: double, latitude: double, housing_median_age: double, total_rooms: double, total_bedrooms: double, population: double, households: double, median_income: double, median_house_value: double]"
            ]
          },
          "metadata": {},
          "execution_count": 4
        }
      ]
    },
    {
      "cell_type": "code",
      "source": [
        "df_train= spark.read.csv(\"/content/seeds_dataset.csv\",header=True,inferSchema= True)"
      ],
      "metadata": {
        "id": "UjzrdduKxnYl"
      },
      "execution_count": null,
      "outputs": []
    },
    {
      "cell_type": "code",
      "source": [
        "df_train.show()"
      ],
      "metadata": {
        "colab": {
          "base_uri": "https://localhost:8080/"
        },
        "id": "GoO0T3GSxeG2",
        "outputId": "0aa5a076-e3fc-46cd-e6d2-35f4904e100f"
      },
      "execution_count": null,
      "outputs": [
        {
          "output_type": "stream",
          "name": "stdout",
          "text": [
            "+-----+---------+-----------+-----------------+---------------+---------------------+-----------------------+----------+\n",
            "| Area|Perimeter|Compactness|Length_of_ kernel|Width_of_kernel|Asymmetry_coefficient|Length_of_kernel_groove|Wheat_Type|\n",
            "+-----+---------+-----------+-----------------+---------------+---------------------+-----------------------+----------+\n",
            "|15.26|    14.84|      0.871|            5.763|          3.312|                2.221|                   5.22|         1|\n",
            "|14.88|    14.57|     0.8811|            5.554|          3.333|                1.018|                  4.956|         1|\n",
            "|14.29|    14.09|      0.905|            5.291|          3.337|                2.699|                  4.825|         1|\n",
            "|13.84|    13.94|     0.8955|            5.324|          3.379|                2.259|                  4.805|         1|\n",
            "|16.14|    14.99|     0.9034|            5.658|          3.562|                1.355|                  5.175|         1|\n",
            "|14.38|    14.21|     0.8951|            5.386|          3.312|                2.462|                  4.956|         1|\n",
            "|14.69|    14.49|     0.8799|            5.563|          3.259|                3.586|                  5.219|         1|\n",
            "|14.11|     14.1|     0.8911|             5.42|          3.302|                  2.7|                    5.0|         1|\n",
            "|16.63|    15.46|     0.8747|            6.053|          3.465|                 2.04|                  5.877|         1|\n",
            "|16.44|    15.25|      0.888|            5.884|          3.505|                1.969|                  5.533|         1|\n",
            "|15.26|    14.85|     0.8696|            5.714|          3.242|                4.543|                  5.314|         1|\n",
            "|14.03|    14.16|     0.8796|            5.438|          3.201|                1.717|                  5.001|         1|\n",
            "|13.89|    14.02|      0.888|            5.439|          3.199|                3.986|                  4.738|         1|\n",
            "|13.78|    14.06|     0.8759|            5.479|          3.156|                3.136|                  4.872|         1|\n",
            "|13.74|    14.05|     0.8744|            5.482|          3.114|                2.932|                  4.825|         1|\n",
            "|14.59|    14.28|     0.8993|            5.351|          3.333|                4.185|                  4.781|         1|\n",
            "|13.99|    13.83|     0.9183|            5.119|          3.383|                5.234|                  4.781|         1|\n",
            "|15.69|    14.75|     0.9058|            5.527|          3.514|                1.599|                  5.046|         1|\n",
            "| 14.7|    14.21|     0.9153|            5.205|          3.466|                1.767|                  4.649|         1|\n",
            "|12.72|    13.57|     0.8686|            5.226|          3.049|                4.102|                  4.914|         1|\n",
            "+-----+---------+-----------+-----------------+---------------+---------------------+-----------------------+----------+\n",
            "only showing top 20 rows\n",
            "\n"
          ]
        }
      ]
    },
    {
      "cell_type": "code",
      "source": [
        "#Checking attributes with their data type\n",
        "df_train.printSchema()"
      ],
      "metadata": {
        "colab": {
          "base_uri": "https://localhost:8080/"
        },
        "id": "IPf0-U6o066L",
        "outputId": "5be139f1-4825-4c5d-e61e-d15e1743c35c"
      },
      "execution_count": null,
      "outputs": [
        {
          "output_type": "stream",
          "name": "stdout",
          "text": [
            "root\n",
            " |-- Area: double (nullable = true)\n",
            " |-- Perimeter: double (nullable = true)\n",
            " |-- Compactness: double (nullable = true)\n",
            " |-- Length_of_ kernel: double (nullable = true)\n",
            " |-- Width_of_kernel: double (nullable = true)\n",
            " |-- Asymmetry_coefficient: double (nullable = true)\n",
            " |-- Length_of_kernel_groove: double (nullable = true)\n",
            " |-- Wheat_Type: integer (nullable = true)\n",
            "\n"
          ]
        }
      ]
    },
    {
      "cell_type": "code",
      "source": [
        "#assembling the columns\n",
        "from pyspark.ml.feature import VectorAssembler\n",
        "featureassembler= VectorAssembler(inputCols=['Area', 'Perimeter', 'Compactness', 'Length_of_ kernel', 'Asymmetry_coefficient', 'Length_of_kernel_groove'], outputCol='Independant Features')"
      ],
      "metadata": {
        "id": "mVjjuksT1Jp0"
      },
      "execution_count": null,
      "outputs": []
    },
    {
      "cell_type": "code",
      "source": [
        "output=featureassembler.transform(df_train)"
      ],
      "metadata": {
        "id": "bG2L7Qw92ULb"
      },
      "execution_count": null,
      "outputs": []
    },
    {
      "cell_type": "code",
      "source": [
        "output.show()"
      ],
      "metadata": {
        "colab": {
          "base_uri": "https://localhost:8080/"
        },
        "id": "aaY44Viz2dVa",
        "outputId": "1092eaf1-b934-429b-8766-9f75f51114c2"
      },
      "execution_count": null,
      "outputs": [
        {
          "output_type": "stream",
          "name": "stdout",
          "text": [
            "+-----+---------+-----------+-----------------+---------------+---------------------+-----------------------+----------+--------------------+\n",
            "| Area|Perimeter|Compactness|Length_of_ kernel|Width_of_kernel|Asymmetry_coefficient|Length_of_kernel_groove|Wheat_Type|Independant Features|\n",
            "+-----+---------+-----------+-----------------+---------------+---------------------+-----------------------+----------+--------------------+\n",
            "|15.26|    14.84|      0.871|            5.763|          3.312|                2.221|                   5.22|         1|[15.26,14.84,0.87...|\n",
            "|14.88|    14.57|     0.8811|            5.554|          3.333|                1.018|                  4.956|         1|[14.88,14.57,0.88...|\n",
            "|14.29|    14.09|      0.905|            5.291|          3.337|                2.699|                  4.825|         1|[14.29,14.09,0.90...|\n",
            "|13.84|    13.94|     0.8955|            5.324|          3.379|                2.259|                  4.805|         1|[13.84,13.94,0.89...|\n",
            "|16.14|    14.99|     0.9034|            5.658|          3.562|                1.355|                  5.175|         1|[16.14,14.99,0.90...|\n",
            "|14.38|    14.21|     0.8951|            5.386|          3.312|                2.462|                  4.956|         1|[14.38,14.21,0.89...|\n",
            "|14.69|    14.49|     0.8799|            5.563|          3.259|                3.586|                  5.219|         1|[14.69,14.49,0.87...|\n",
            "|14.11|     14.1|     0.8911|             5.42|          3.302|                  2.7|                    5.0|         1|[14.11,14.1,0.891...|\n",
            "|16.63|    15.46|     0.8747|            6.053|          3.465|                 2.04|                  5.877|         1|[16.63,15.46,0.87...|\n",
            "|16.44|    15.25|      0.888|            5.884|          3.505|                1.969|                  5.533|         1|[16.44,15.25,0.88...|\n",
            "|15.26|    14.85|     0.8696|            5.714|          3.242|                4.543|                  5.314|         1|[15.26,14.85,0.86...|\n",
            "|14.03|    14.16|     0.8796|            5.438|          3.201|                1.717|                  5.001|         1|[14.03,14.16,0.87...|\n",
            "|13.89|    14.02|      0.888|            5.439|          3.199|                3.986|                  4.738|         1|[13.89,14.02,0.88...|\n",
            "|13.78|    14.06|     0.8759|            5.479|          3.156|                3.136|                  4.872|         1|[13.78,14.06,0.87...|\n",
            "|13.74|    14.05|     0.8744|            5.482|          3.114|                2.932|                  4.825|         1|[13.74,14.05,0.87...|\n",
            "|14.59|    14.28|     0.8993|            5.351|          3.333|                4.185|                  4.781|         1|[14.59,14.28,0.89...|\n",
            "|13.99|    13.83|     0.9183|            5.119|          3.383|                5.234|                  4.781|         1|[13.99,13.83,0.91...|\n",
            "|15.69|    14.75|     0.9058|            5.527|          3.514|                1.599|                  5.046|         1|[15.69,14.75,0.90...|\n",
            "| 14.7|    14.21|     0.9153|            5.205|          3.466|                1.767|                  4.649|         1|[14.7,14.21,0.915...|\n",
            "|12.72|    13.57|     0.8686|            5.226|          3.049|                4.102|                  4.914|         1|[12.72,13.57,0.86...|\n",
            "+-----+---------+-----------+-----------------+---------------+---------------------+-----------------------+----------+--------------------+\n",
            "only showing top 20 rows\n",
            "\n"
          ]
        }
      ]
    },
    {
      "cell_type": "code",
      "source": [
        "output.columns"
      ],
      "metadata": {
        "colab": {
          "base_uri": "https://localhost:8080/"
        },
        "id": "G69nwOwr5gFr",
        "outputId": "01eac053-f5a6-4d38-feb6-0707bd36e69a"
      },
      "execution_count": null,
      "outputs": [
        {
          "output_type": "execute_result",
          "data": {
            "text/plain": [
              "['Area',\n",
              " 'Perimeter',\n",
              " 'Compactness',\n",
              " 'Length_of_ kernel',\n",
              " 'Width_of_kernel',\n",
              " 'Asymmetry_coefficient',\n",
              " 'Length_of_kernel_groove',\n",
              " 'Wheat_Type',\n",
              " 'Independant Features']"
            ]
          },
          "metadata": {},
          "execution_count": 12
        }
      ]
    },
    {
      "cell_type": "markdown",
      "source": [
        "Create the final output with the dataset target variable"
      ],
      "metadata": {
        "id": "GAXciU6q41Py"
      }
    },
    {
      "cell_type": "code",
      "source": [
        "#The select() is a transformation function that is used to select the columns from the dataset\n",
        "fin_output=output.select(\"Independant Features\", \"Wheat_Type\")"
      ],
      "metadata": {
        "id": "2pDLYbYr3HYD"
      },
      "execution_count": null,
      "outputs": []
    },
    {
      "cell_type": "code",
      "source": [
        "fin_output.show()"
      ],
      "metadata": {
        "colab": {
          "base_uri": "https://localhost:8080/"
        },
        "id": "9gmipb2G6l9Z",
        "outputId": "789411c9-6ff2-499d-f127-bab463958fc3"
      },
      "execution_count": null,
      "outputs": [
        {
          "output_type": "stream",
          "name": "stdout",
          "text": [
            "+--------------------+----------+\n",
            "|Independant Features|Wheat_Type|\n",
            "+--------------------+----------+\n",
            "|[15.26,14.84,0.87...|         1|\n",
            "|[14.88,14.57,0.88...|         1|\n",
            "|[14.29,14.09,0.90...|         1|\n",
            "|[13.84,13.94,0.89...|         1|\n",
            "|[16.14,14.99,0.90...|         1|\n",
            "|[14.38,14.21,0.89...|         1|\n",
            "|[14.69,14.49,0.87...|         1|\n",
            "|[14.11,14.1,0.891...|         1|\n",
            "|[16.63,15.46,0.87...|         1|\n",
            "|[16.44,15.25,0.88...|         1|\n",
            "|[15.26,14.85,0.86...|         1|\n",
            "|[14.03,14.16,0.87...|         1|\n",
            "|[13.89,14.02,0.88...|         1|\n",
            "|[13.78,14.06,0.87...|         1|\n",
            "|[13.74,14.05,0.87...|         1|\n",
            "|[14.59,14.28,0.89...|         1|\n",
            "|[13.99,13.83,0.91...|         1|\n",
            "|[15.69,14.75,0.90...|         1|\n",
            "|[14.7,14.21,0.915...|         1|\n",
            "|[12.72,13.57,0.86...|         1|\n",
            "+--------------------+----------+\n",
            "only showing top 20 rows\n",
            "\n"
          ]
        }
      ]
    },
    {
      "cell_type": "markdown",
      "source": [
        "Scaling the data(to deal with the cluster of dimensionality)"
      ],
      "metadata": {
        "id": "hx48KHFKCZAB"
      }
    },
    {
      "cell_type": "code",
      "source": [
        "from pyspark.ml.feature import StandardScaler\n",
        "scaler=StandardScaler(inputCol=\"Independant Features\",\n",
        "                      outputCol=\"ScaledFeatures\",\n",
        "                      withStd=True,\n",
        "                      withMean=False)"
      ],
      "metadata": {
        "id": "MXfYlmARAbdX"
      },
      "execution_count": null,
      "outputs": []
    },
    {
      "cell_type": "code",
      "source": [
        "scalerModel=scaler.fit(fin_output)\n",
        "fin_output=scalerModel.transform(fin_output)\n",
        "fin_output.select(\"ScaledFeatures\").show()"
      ],
      "metadata": {
        "colab": {
          "base_uri": "https://localhost:8080/"
        },
        "id": "b7uEeD6NBWlO",
        "outputId": "0483677f-e566-48dc-b18a-5debcfb9a58f"
      },
      "execution_count": null,
      "outputs": [
        {
          "output_type": "stream",
          "name": "stdout",
          "text": [
            "+--------------------+\n",
            "|      ScaledFeatures|\n",
            "+--------------------+\n",
            "|[5.24452795332028...|\n",
            "|[5.11393027165175...|\n",
            "|[4.91116018695588...|\n",
            "|[4.75650503761158...|\n",
            "|[5.54696468981581...|\n",
            "|[4.94209121682475...|\n",
            "|[5.04863143081749...|\n",
            "|[4.84929812721816...|\n",
            "|[5.71536696354628...|\n",
            "|[5.65006812271202...|\n",
            "|[5.24452795332028...|\n",
            "|[4.82180387844584...|\n",
            "|[4.77368894309428...|\n",
            "|[4.73588435103234...|\n",
            "|[4.72213722664617...|\n",
            "|[5.01426361985209...|\n",
            "|[4.80805675405968...|\n",
            "|[5.39230954047151...|\n",
            "|[5.05206821191403...|\n",
            "|[4.37158555479908...|\n",
            "+--------------------+\n",
            "only showing top 20 rows\n",
            "\n"
          ]
        }
      ]
    },
    {
      "cell_type": "markdown",
      "source": [
        "Import model"
      ],
      "metadata": {
        "id": "bQKpc00_Cqb4"
      }
    },
    {
      "cell_type": "code",
      "source": [
        "from pyspark.ml.clustering import KMeans\n",
        "from pyspark.ml.evaluation import ClusteringEvaluator"
      ],
      "metadata": {
        "id": "anzDN-0TCpRZ"
      },
      "execution_count": null,
      "outputs": []
    },
    {
      "cell_type": "code",
      "source": [
        "#measures how close each point in one cluster is to points in the neighboring cluster\n",
        "silhouette_score=[]\n",
        "evaluator=ClusteringEvaluator(predictionCol=\"prediction\",\n",
        "                              featuresCol=\"ScaledFeatures\",\n",
        "                              metricName=\"silhouette\",\n",
        "                              distanceMeasure=\"squaredEuclidean\")"
      ],
      "metadata": {
        "id": "0llxFM6IDA5l"
      },
      "execution_count": null,
      "outputs": []
    },
    {
      "cell_type": "code",
      "source": [
        "for i in range(2,10):\n",
        "  kmeans=KMeans(featuresCol=\"ScaledFeatures\",k=i)\n",
        "  model=kmeans.fit(fin_output)\n",
        "  predictions=model.transform(fin_output)\n",
        "  score=evaluator.evaluate(predictions)\n",
        "  silhouette_score.append(score)\n",
        "  print('Silhouette_score for K = ',i,'is',score)"
      ],
      "metadata": {
        "colab": {
          "base_uri": "https://localhost:8080/"
        },
        "id": "p7N0v9RhFiNF",
        "outputId": "d92743ca-0f34-424b-8261-fdc669c5f8d2"
      },
      "execution_count": null,
      "outputs": [
        {
          "output_type": "stream",
          "name": "stdout",
          "text": [
            "Silhouette_score for K =  2 is 0.6334512290425433\n",
            "Silhouette_score for K =  3 is 0.7151665267717033\n",
            "Silhouette_score for K =  4 is 0.6340013750348948\n",
            "Silhouette_score for K =  5 is 0.5414392518765837\n",
            "Silhouette_score for K =  6 is 0.554741996587174\n",
            "Silhouette_score for K =  7 is 0.4959451849401021\n",
            "Silhouette_score for K =  8 is 0.47091898164442\n",
            "Silhouette_score for K =  9 is 0.44597165935339994\n"
          ]
        }
      ]
    },
    {
      "cell_type": "code",
      "source": [
        "#visualiosing silhouette score\n",
        "import matplotlib.pyplot as plt\n",
        "\n",
        "plt.plot(range(2,10), silhouette_score)\n",
        "plt.xlabel(\"k\")\n",
        "plt.ylabel(\"silhouette_score\")\n",
        "plt.title(\"silhouette_score\")"
      ],
      "metadata": {
        "colab": {
          "base_uri": "https://localhost:8080/",
          "height": 490
        },
        "id": "cge8f4dGLsI-",
        "outputId": "425bc250-2ea7-470a-ccab-dda970a966e4"
      },
      "execution_count": null,
      "outputs": [
        {
          "output_type": "execute_result",
          "data": {
            "text/plain": [
              "Text(0.5, 1.0, 'silhouette_score')"
            ]
          },
          "metadata": {},
          "execution_count": 51
        },
        {
          "output_type": "display_data",
          "data": {
            "text/plain": [
              "<Figure size 640x480 with 1 Axes>"
            ],
            "image/png": "[encoded data removed]"
          },
          "metadata": {}
        }
      ]
    },
    {
      "cell_type": "code",
      "source": [
        "Kmeans=KMeans(featuresCol='ScaledFeatures',k=3)\n",
        "model=Kmeans.fit(fin_output)\n",
        "predictions=model.transform(fin_output)"
      ],
      "metadata": {
        "id": "XsV8fMV7Kc4M"
      },
      "execution_count": null,
      "outputs": []
    },
    {
      "cell_type": "code",
      "source": [
        "centers=model.clusterCenters()\n",
        "print(\"Cluster Centers: \")\n",
        "for center in centers:\n",
        "  print(center)\n"
      ],
      "metadata": {
        "colab": {
          "base_uri": "https://localhost:8080/"
        },
        "id": "FiL6PTjcOiE9",
        "outputId": "214b051a-9978-429a-b34c-f7d0b121180d"
      },
      "execution_count": null,
      "outputs": [
        {
          "output_type": "stream",
          "name": "stdout",
          "text": [
            "Cluster Centers: \n",
            "[ 6.27012845 12.3273835   8.88649917 11.17089525  2.36434178 11.78919687]\n",
            "[ 4.45964352 10.49956612  8.69533449  9.71291398  2.51318833  9.983839  ]\n",
            "[ 5.54009113 11.48581475 22.84185614  1.63574639  3.78925051  6.84578539]\n"
          ]
        }
      ]
    },
    {
      "cell_type": "code",
      "source": [
        "predictions.select('Wheat_Type','prediction').show()"
      ],
      "metadata": {
        "colab": {
          "base_uri": "https://localhost:8080/"
        },
        "id": "I92rpAycPEJ1",
        "outputId": "2f7d8ecb-bb5a-498c-8c57-9ffb1100d756"
      },
      "execution_count": null,
      "outputs": [
        {
          "output_type": "stream",
          "name": "stdout",
          "text": [
            "+----------+----------+\n",
            "|Wheat_Type|prediction|\n",
            "+----------+----------+\n",
            "|         1|         1|\n",
            "|         1|         1|\n",
            "|         1|         1|\n",
            "|         1|         1|\n",
            "|         1|         1|\n",
            "|         1|         1|\n",
            "|         1|         1|\n",
            "|         1|         1|\n",
            "|         1|         0|\n",
            "|         1|         0|\n",
            "|         1|         1|\n",
            "|         1|         1|\n",
            "|         1|         1|\n",
            "|         1|         1|\n",
            "|         1|         1|\n",
            "|         1|         1|\n",
            "|         1|         1|\n",
            "|         1|         1|\n",
            "|         1|         1|\n",
            "|         1|         1|\n",
            "+----------+----------+\n",
            "only showing top 20 rows\n",
            "\n"
          ]
        }
      ]
    },
    {
      "cell_type": "code",
      "source": [
        "#Converting to Pandas Dataframe\n",
        "predictions_pd=predictions.toPandas()"
      ],
      "metadata": {
        "id": "LWXqg0W8RHoU"
      },
      "execution_count": null,
      "outputs": []
    },
    {
      "cell_type": "code",
      "source": [
        "#visualizing the resultsa"
      ],
      "metadata": {
        "id": "mF4DCCUJRUZJ"
      },
      "execution_count": null,
      "outputs": []
    }
  ]
}